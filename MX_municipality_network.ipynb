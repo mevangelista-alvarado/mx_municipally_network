{
  "nbformat": 4,
  "nbformat_minor": 0,
  "metadata": {
    "colab": {
      "name": "MX_municipality_network.ipynb",
      "provenance": [],
      "collapsed_sections": [
        "6EnZRwiV1dQM",
        "kTA0RJTVzLcC",
        "AVbIuAsz1Axn"
      ],
      "include_colab_link": true
    },
    "kernelspec": {
      "name": "python3",
      "display_name": "Python 3"
    },
    "accelerator": "GPU"
  },
  "cells": [
    {
      "cell_type": "markdown",
      "metadata": {
        "id": "view-in-github",
        "colab_type": "text"
      },
      "source": [
        "<a href=\"https://colab.research.google.com/github/mevangelista-alvarado/mx_municipally_network/blob/main/MX_municipality_network.ipynb\" target=\"_parent\"><img src=\"https://colab.research.google.com/assets/colab-badge.svg\" alt=\"Open In Colab\"/></a>"
      ]
    },
    {
      "cell_type": "markdown",
      "metadata": {
        "id": "6EnZRwiV1dQM"
      },
      "source": [
        "## Download"
      ]
    },
    {
      "cell_type": "markdown",
      "metadata": {
        "id": "QEwt3e1zzChJ"
      },
      "source": [
        "### Via manual"
      ]
    },
    {
      "cell_type": "markdown",
      "metadata": {
        "id": "IdYXeUNnnLS6"
      },
      "source": [
        "Download the files [here](http://internet.contenidos.inegi.org.mx/contenidos/Productos/prod_serv/contenidos/espanol/bvinegi/productos/geografia/marcogeo/889463142683_s.zip)\n",
        "\n",
        "You must upload the following files in the `/content/conjunto_de_datos` dir:\n",
        "  *   `areas_geoestadisticas_municipales.CPG`\n",
        "  *   `areas_geoestadisticas_municipales.dbf`\n",
        "  *   `areas_geoestadisticas_municipales.prj`\n",
        "  *   `areas_geoestadisticas_municipales.shp`\n",
        "  *   `areas_geoestadisticas_municipales.shx`\n"
      ]
    },
    {
      "cell_type": "markdown",
      "metadata": {
        "id": "kTA0RJTVzLcC"
      },
      "source": [
        "### Via console"
      ]
    },
    {
      "cell_type": "code",
      "metadata": {
        "id": "eYHLtVxcvo0Z"
      },
      "source": [
        "!wget http://internet.contenidos.inegi.org.mx/contenidos/Productos/prod_serv/contenidos/espanol/bvinegi/productos/geografia/marcogeo/889463142683_s.zip"
      ],
      "execution_count": null,
      "outputs": []
    },
    {
      "cell_type": "code",
      "metadata": {
        "id": "sg7PwW8e1uuD"
      },
      "source": [
        "import zipfile\n",
        "\n",
        "path_to_zip_file = '/content/889463142683_s.zip'\n",
        "directory_to_extract_to = '/content'\n",
        "\n",
        "with zipfile.ZipFile(path_to_zip_file, 'r') as zip_ref:\n",
        "    zip_ref.extractall(directory_to_extract_to)\n"
      ],
      "execution_count": null,
      "outputs": []
    },
    {
      "cell_type": "markdown",
      "metadata": {
        "id": "mI_dF0Ggz4hk"
      },
      "source": [
        "## Create a MX municipality dataframe"
      ]
    },
    {
      "cell_type": "markdown",
      "metadata": {
        "id": "AVbIuAsz1Axn"
      },
      "source": [
        "### Download geopandas module"
      ]
    },
    {
      "cell_type": "code",
      "metadata": {
        "id": "zgvgV6YjpWOx"
      },
      "source": [
        "!pip install geopandas"
      ],
      "execution_count": null,
      "outputs": []
    },
    {
      "cell_type": "markdown",
      "metadata": {
        "id": "PS71Wc6_1HvE"
      },
      "source": [
        "### Find the neighbor for each municipality"
      ]
    },
    {
      "cell_type": "code",
      "metadata": {
        "id": "g6LDbpdZo5Ue"
      },
      "source": [
        "import geopandas as gpd\n",
        "from itertools import zip_longest\n",
        "\n",
        "# Read shp file and convert as dataframe\n",
        "path_file = \"/content/conjunto_de_datos/areas_geoestadisticas_municipales.shp\"\n",
        "df = gpd.read_file(path_file)\n",
        "\n",
        "# Create CVE_ENT+MUN column to avoid confusion to make the Mexico network\n",
        "CVE_Ent = df[\"CVE_ENT\"]\n",
        "CVE_Mun = df[\"CVE_MUN\"]\n",
        "CVE_Ent_Mun = [\"\".join(CVE) for CVE in zip_longest(CVE_Ent, CVE_Mun, fillvalue=0)]\n",
        "df[\"CVE_Ent_Mun\"] = CVE_Ent_Mun\n",
        "\n",
        "\n",
        "# Create representative_point list\n",
        "# ref: https://geopandas.readthedocs.io/en/latest/docs/reference/api/geopandas.GeoSeries.representative_point.html\n",
        "df[\"representative_point\"] = [e for e in df.representative_point()]\n",
        "\n",
        "# Create the adjacent column to save all nodes that are neighbors from a specific node \n",
        "df = df.assign(adjacents=None)\n",
        "\n",
        "# Find the neighbor for each municipality\n",
        "for index, municipality in df.iterrows():\n",
        "  # Create a list with all neighbor from a municipality (CVE_Ent_Mun := ID of the State + Municipality )\n",
        "  adjacents = df[-df.geometry.disjoint(municipality.geometry)].CVE_Ent_Mun.tolist()\n",
        "  # Remove own name from the list\n",
        "  adjacents = [name for name in adjacents if municipality.CVE_Ent_Mun != name]\n",
        "  # Add the result in the adjacents column\n",
        "  df.at[index, \"adjacents\"] = \", \".join(adjacents) \n",
        "\n",
        "# Show dataframe head \n",
        "df.head()\n"
      ],
      "execution_count": null,
      "outputs": []
    },
    {
      "cell_type": "markdown",
      "metadata": {
        "id": "sovcxS2bwOAG"
      },
      "source": [
        "## Create a MX municipality network "
      ]
    },
    {
      "cell_type": "markdown",
      "metadata": {
        "id": "XQ6Fb0udw8Nw"
      },
      "source": [
        "#### Define dictionaries to add metadata to each node"
      ]
    },
    {
      "cell_type": "code",
      "metadata": {
        "id": "BK311tZtqWir"
      },
      "source": [
        "# Generates dictionaries to add metadata to each node (aka CVE_Ent_Mun)\n",
        "CVE = df[\"CVE_Ent_Mun\"]\n",
        "representative_point = df[\"representative_point\"]\n",
        "MUN_NAME = df[\"NOM_MUN\"]\n",
        "\n",
        "# Dictionaries\n",
        "# Example {'01002': (2490227.155643021 1123688.502500003)}\n",
        "# Where the keys are str type and the values are point type\n",
        "fixed_positions = dict(zip(CVE, representative_point))  \n",
        "# Example {'01002': 'Asientos'}\n",
        "# Where the keys and values are str type\n",
        "mun_name = dict(zip(CVE, MUN_NAME)) "
      ],
      "execution_count": null,
      "outputs": []
    },
    {
      "cell_type": "code",
      "metadata": {
        "id": "K1VEagpaeRGb"
      },
      "source": [
        "# This dictionary is to use assign the state name to in each node \n",
        "STATE_NAME = {\n",
        "  '01':\t'AGUASCALIENTES',\n",
        "  '02':\t'BAJA CALIFORNIA',\n",
        "  '03':\t'BAJA CALIFORNIA SUR',\n",
        "  '04':\t'CAMPECHE',\n",
        "  '05':\t'COAHUILA DE ZARAGOZA',\n",
        "  '06':\t'COLIMA',\n",
        "  '07':\t'CHIAPAS',\n",
        "  '08':\t'CHIHUAHUA',\n",
        "  '09':\t'CIUDAD DE MÉXICO',\n",
        "  '10':\t'DURANGO',\n",
        "  '11':\t'GUANAJUATO',\n",
        "  '12':\t'GUERRERO',\n",
        "  '13':\t'HIDALGO',\n",
        "  '14':\t'JALISCO',\n",
        "  '15':\t'EDO DE MÉXICO',\n",
        "  '16':\t'MICHOACÁN DE OCAMPO',\n",
        "  '17':\t'MORELOS',\n",
        "  '18':\t'NAYARIT',\n",
        "  '19':\t'NUEVO LEÓN',\n",
        "  '20':\t'OAXACA',\n",
        "  '21':\t'PUEBLA',\n",
        "  '22':\t'QUERÉTARO',\n",
        "  '23':\t'QUINTANA ROO',\n",
        "  '24':\t'SAN LUIS POTOSÍ',\n",
        "  '25':\t'SINALOA',\n",
        "  '26':\t'SONORA',\n",
        "  '27':\t'TABASCO',\n",
        "  '28':\t'TAMAULIPAS',\n",
        "  '29':\t'TLAXCALA',\n",
        "  '30':\t'VERACRUZ DE IGNACIO DE LA LLAVE',\n",
        "  '31':\t'YUCATÁN',\n",
        "  '32':\t'ZACATECAS',\n",
        "}"
      ],
      "execution_count": null,
      "outputs": []
    },
    {
      "cell_type": "markdown",
      "metadata": {
        "id": "w-FNiCaywJw6"
      },
      "source": [
        "### Create network and assign metadata to each node"
      ]
    },
    {
      "cell_type": "code",
      "metadata": {
        "id": "z_5roxMBCsxh"
      },
      "source": [
        "import networkx as nx\n",
        "\n",
        "# Define the list to use to create the MX network\n",
        "mun = df['CVE_Ent_Mun'].tolist()\n",
        "neighbors = df['adjacents'].tolist()\n",
        "\n",
        "# Create a empty newtwork\n",
        "G = nx.Graph()\n",
        "\n",
        "for mun_id in mun:\n",
        "  # Add each municipality with metadata as a node in the network \n",
        "  G.add_node(mun_id,\n",
        "              pos=fixed_positions[mun_id],\n",
        "              name=mun_name[mun_id],\n",
        "              state=STATE_NAME[mun_id[0:2]],\n",
        "  )\n",
        "  # Add all edge from the node\n",
        "  index = mun.index(mun_id)\n",
        "  neighbors_by_mun = neighbors[index]\n",
        "  _neighbors = [i.strip() for i in neighbors_by_mun.split(',')]\n",
        "  for neighbor in _neighbors:\n",
        "    G.add_edge(mun_id, neighbor)\n",
        "  # Add Municipality name\n",
        "\n",
        "# Shows all nodes (qty, nodes)\n",
        "# print(\"Nodos: \", G.number_of_nodes(), G.nodes())\n",
        "# Shows all edges (qty, edges)\n",
        "# print(\"Enlaces: \", G.number_of_edges(),G.edges())"
      ],
      "execution_count": null,
      "outputs": []
    },
    {
      "cell_type": "code",
      "metadata": {
        "id": "WXoApdDwWXXg"
      },
      "source": [
        "# Show the node data\n",
        "G.nodes(data=True)"
      ],
      "execution_count": null,
      "outputs": []
    },
    {
      "cell_type": "markdown",
      "metadata": {
        "id": "liMcWxvaGM3R"
      },
      "source": [
        "## MX municipality network visualization "
      ]
    },
    {
      "cell_type": "markdown",
      "metadata": {
        "id": "0QzsOjqxtg-v"
      },
      "source": [
        "We use the plotly module"
      ]
    },
    {
      "cell_type": "code",
      "metadata": {
        "id": "pYMwUDpgItGw"
      },
      "source": [
        "import plotly.graph_objects as go"
      ],
      "execution_count": null,
      "outputs": []
    },
    {
      "cell_type": "markdown",
      "metadata": {
        "id": "iIzvwvHftwK5"
      },
      "source": [
        "### Add all edge from the network to show in the chart "
      ]
    },
    {
      "cell_type": "code",
      "metadata": {
        "id": "kKLVRq_UOhJl"
      },
      "source": [
        "edge_x = list()\n",
        "edge_y = list()\n",
        "# Iterate over edges\n",
        "for edge in G.edges():\n",
        "  pt0 = G.nodes[edge[0]][\"pos\"]\n",
        "  pt1 = G.nodes[edge[1]][\"pos\"]\n",
        "  edge_x += [pt0.x, pt1.x, None]\n",
        "  edge_y += [pt0.y, pt1.y, None]\n",
        "\n",
        "# Create a Scatter object with the edges from the Mx municipality network \n",
        "edge_trace = go.Scatter(\n",
        "  x=edge_x, y=edge_y,\n",
        "  line=dict(width=0.5, color='blue'),\n",
        "  hoverinfo='none',\n",
        "  mode='lines',\n",
        ")"
      ],
      "execution_count": null,
      "outputs": []
    },
    {
      "cell_type": "markdown",
      "metadata": {
        "id": "b4JFAWOy2Qwp"
      },
      "source": [
        "###  Add all nodes from the network to show in the chart"
      ]
    },
    {
      "cell_type": "code",
      "metadata": {
        "id": "HEb6xo0DPNDu"
      },
      "source": [
        "node_x = list()\n",
        "node_y = list()\n",
        "_text = list()\n",
        "# Iterate over edges\n",
        "for node in G.nodes():\n",
        "  # Get the node point, municipality name, and state name \n",
        "  pt = G.nodes[node][\"pos\"]\n",
        "  mun_name = G.nodes[node][\"name\"]\n",
        "  state_name = G.nodes[node][\"state\"]\n",
        "  # Save the data in the previous lists to use in the Scatter object \n",
        "  node_x.append(pt.x)\n",
        "  node_y.append(pt.y)\n",
        "  _text.append(f'Municipio: {mun_name},\\nEstado: {state_name}')\n",
        "  # Remark: In this for is it can possible the added color to each node\n",
        "\n",
        "# Create a Scatter object with the edges from the Mx municipality network \n",
        "node_trace = go.Scatter(\n",
        "  x=node_x, y=node_y,\n",
        "  text=_text,\n",
        "  mode='markers',\n",
        "  hoverinfo='text',\n",
        "  marker=dict(\n",
        "      color=['black'],\n",
        "      line_width=1,\n",
        "  )\n",
        ")"
      ],
      "execution_count": null,
      "outputs": []
    },
    {
      "cell_type": "markdown",
      "metadata": {
        "id": "2FU7i_-K4bqF"
      },
      "source": [
        "### Create the MX municipality network plot  "
      ]
    },
    {
      "cell_type": "code",
      "metadata": {
        "id": "1vKM0d9oHiqV"
      },
      "source": [
        "# Ploty figure\n",
        "fig = go.Figure(\n",
        "  data=[edge_trace, node_trace],\n",
        "  layout=go.Layout(\n",
        "    title=\"MX municipality network\",\n",
        "    titlefont_size=18,\n",
        "    template='plotly_white',\n",
        "    showlegend=False,\n",
        "    hovermode='closest',\n",
        "    margin=dict(b=20,l=5,r=5,t=40),\n",
        "    annotations=[dict(\n",
        "        text=\"Python code: <a href='https://github.com/mevangelista-alvarado/mx_municipally_network'> https://github.com/mevangelista-alvarado/mx_municipally_network</a>\",\n",
        "        showarrow=False,\n",
        "        xref=\"paper\",\n",
        "        yref=\"paper\",\n",
        "        x=0.005,\n",
        "        y=-0.002,\n",
        "    )],\n",
        "    xaxis=dict(showgrid=False, zeroline=False, showticklabels=False),\n",
        "    yaxis=dict(showgrid=False, zeroline=False, showticklabels=False)\n",
        "  )\n",
        ")\n",
        "fig.show()"
      ],
      "execution_count": null,
      "outputs": []
    }
  ]
}